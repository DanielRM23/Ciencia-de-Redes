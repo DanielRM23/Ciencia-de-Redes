{
 "cells": [
  {
   "cell_type": "markdown",
   "metadata": {},
   "source": [
    "# $Clase \\ 29-Sep-2020$"
   ]
  },
  {
   "cell_type": "markdown",
   "metadata": {},
   "source": [
    "# networkx \n",
    "\n",
    "#### Esta paquetería nos permite poder trabajar con nodos y aristas (enlaces). Es necesario importarla como se muestra a continuación."
   ]
  },
  {
   "cell_type": "code",
   "execution_count": 88,
   "metadata": {},
   "outputs": [],
   "source": [
    "import networkx as nx \n",
    "import numpy as np"
   ]
  },
  {
   "cell_type": "markdown",
   "metadata": {},
   "source": [
    "# nx.Graph( )\n",
    "\n",
    "#### Se utiliza para poder graficas los nodos. Es el comando inicial que se debe ejecutar, es decir, siempre que quiera graficar o hacer una red debo correr $nx.Graph()$. \n",
    "\n",
    "#### Usualmente se denomina como una variable al comando anterior, tal y como se muestra en la siguiente línea de comando."
   ]
  },
  {
   "cell_type": "code",
   "execution_count": 89,
   "metadata": {},
   "outputs": [],
   "source": [
    "#Esto es necesario para poder graficar los nodos.\n",
    "#Asigno un nombre a la varibale para poder trabajar con esto después.\n",
    "G = nx.Graph()"
   ]
  },
  {
   "cell_type": "markdown",
   "metadata": {},
   "source": [
    "# Observación para el notebook.\n",
    "\n",
    "**En todo lo siguiente se hará uso de que la gráfica lleva el nombre $G$.**\n"
   ]
  },
  {
   "cell_type": "markdown",
   "metadata": {},
   "source": [
    "# nx.draw(G)\n",
    "\n",
    "#### Se utiliza para poder visualizar la red (gráfica) que se definió con los comandos anteriores.\n",
    "\n",
    "#### En el siguiente ejemplo no se está graficando nada puesto que no hay nada qué graficar; se tiene una gráfica en blanco."
   ]
  },
  {
   "cell_type": "code",
   "execution_count": 90,
   "metadata": {},
   "outputs": [],
   "source": [
    "#Aquí grafico una cosa en blanco porque no hay nada qué graficar.\n",
    "#nx.draw(G)"
   ]
  },
  {
   "cell_type": "markdown",
   "metadata": {},
   "source": [
    "# G.nodes\n",
    "\n",
    "#### Sirve para poder ver los nodos que hay en la red. "
   ]
  },
  {
   "cell_type": "code",
   "execution_count": 91,
   "metadata": {},
   "outputs": [
    {
     "data": {
      "text/plain": [
       "NodeView(())"
      ]
     },
     "execution_count": 91,
     "metadata": {},
     "output_type": "execute_result"
    }
   ],
   "source": [
    "G.nodes\n",
    "#Esto te enseña los nodos que hay."
   ]
  },
  {
   "cell_type": "markdown",
   "metadata": {},
   "source": [
    "# G.edges\n",
    "\n",
    "#### Sirve para poder ver las aristas(enlaces) que hay en la red. "
   ]
  },
  {
   "cell_type": "code",
   "execution_count": 92,
   "metadata": {},
   "outputs": [
    {
     "data": {
      "text/plain": [
       "EdgeView([])"
      ]
     },
     "execution_count": 92,
     "metadata": {},
     "output_type": "execute_result"
    }
   ],
   "source": [
    "G.edges\n",
    "#Esto te enseña los enlaces (aristas) que hay."
   ]
  },
  {
   "cell_type": "markdown",
   "metadata": {},
   "source": [
    "# G.degree\n",
    "\n",
    "#### Sirve para poder ver el grado de los nodos. Nos dice el número de vecinos que tiene cada nodo. "
   ]
  },
  {
   "cell_type": "markdown",
   "metadata": {},
   "source": [
    "# G.add_node( )\n",
    "\n",
    "#### Con este comando se pueden agregar nodos a la gráfica.\n",
    " \n",
    "#### En el siguiente ejemplo se está agregando un nodo a la gráfica G y se está visualizando con el comando $nx.draw(G)$.\n"
   ]
  },
  {
   "cell_type": "code",
   "execution_count": 93,
   "metadata": {},
   "outputs": [
    {
     "data": {
      "image/png": "[encoded data removed]",
      "text/plain": [
       "<Figure size 432x288 with 1 Axes>"
      ]
     },
     "metadata": {},
     "output_type": "display_data"
    }
   ],
   "source": [
    "G.add_node(\"Nodo 1\")\n",
    "nx.draw(G)"
   ]
  },
  {
   "cell_type": "markdown",
   "metadata": {},
   "source": [
    "#### En el siguiente ejemplo se están generando 4 nodos más un nodo que se genero en la celda anterior."
   ]
  },
  {
   "cell_type": "code",
   "execution_count": 94,
   "metadata": {},
   "outputs": [
    {
     "data": {
      "image/png": "[encoded data removed]",
      "text/plain": [
       "<Figure size 432x288 with 1 Axes>"
      ]
     },
     "metadata": {},
     "output_type": "display_data"
    }
   ],
   "source": [
    "G.add_node(\"Nodo 2\")\n",
    "G.add_node(\"Nodo 3\")\n",
    "G.add_node(\"Nodo 4\")\n",
    "G.add_node(\"Nodo 5\")\n",
    "nx.draw(G)"
   ]
  },
  {
   "cell_type": "markdown",
   "metadata": {},
   "source": [
    "# G.add_edge( )\n",
    "\n",
    "#### Sirve para crear los enlaces(aristas) entre los nodos, para ello es importante especificar 2 argumentos en la función; el primer argumento es el nodo que quiero enlazar y el segundo elemento es el nodo al cual lo estoy enlazando.\n",
    "\n",
    "#### En el siguinte ejemplo se están generando los enlaces en los nodos previamente realizados."
   ]
  },
  {
   "cell_type": "code",
   "execution_count": 95,
   "metadata": {},
   "outputs": [
    {
     "data": {
      "image/png": "[encoded data removed]",
      "text/plain": [
       "<Figure size 432x288 with 1 Axes>"
      ]
     },
     "metadata": {},
     "output_type": "display_data"
    }
   ],
   "source": [
    "G.add_edge(\"Nodo 1\", \"Nodo 2\")\n",
    "G.add_edge(\"Nodo 1\", \"Nodo 3\")\n",
    "G.add_edge(\"Nodo 1\", \"Nodo 4\")\n",
    "G.add_edge(\"Nodo 3\", \"Nodo 5\")\n",
    "\n",
    "#Con with_labels = True hago que se vea el nombre de los nodos.\n",
    "nx.draw(G, with_labels = True)"
   ]
  },
  {
   "cell_type": "code",
   "execution_count": 96,
   "metadata": {},
   "outputs": [
    {
     "data": {
      "text/plain": [
       "NodeView(('Nodo 1', 'Nodo 2', 'Nodo 3', 'Nodo 4', 'Nodo 5'))"
      ]
     },
     "execution_count": 96,
     "metadata": {},
     "output_type": "execute_result"
    }
   ],
   "source": [
    "#Visualizo los nodos que hay en la red.\n",
    "G.nodes"
   ]
  },
  {
   "cell_type": "code",
   "execution_count": 97,
   "metadata": {},
   "outputs": [
    {
     "data": {
      "text/plain": [
       "EdgeView([('Nodo 1', 'Nodo 2'), ('Nodo 1', 'Nodo 3'), ('Nodo 1', 'Nodo 4'), ('Nodo 3', 'Nodo 5')])"
      ]
     },
     "execution_count": 97,
     "metadata": {},
     "output_type": "execute_result"
    }
   ],
   "source": [
    "#Visualizo las aristas que hay en la red.\n",
    "G.edges"
   ]
  },
  {
   "cell_type": "code",
   "execution_count": 98,
   "metadata": {},
   "outputs": [
    {
     "data": {
      "text/plain": [
       "DegreeView({'Nodo 1': 3, 'Nodo 2': 1, 'Nodo 3': 2, 'Nodo 4': 1, 'Nodo 5': 1})"
      ]
     },
     "execution_count": 98,
     "metadata": {},
     "output_type": "execute_result"
    }
   ],
   "source": [
    "#Nos dice el grado de los nodos, es decir, el número de vecinos que tiene cada nodo.\n",
    "G.degree"
   ]
  },
  {
   "cell_type": "markdown",
   "metadata": {},
   "source": [
    "# Ejemplos."
   ]
  },
  {
   "cell_type": "code",
   "execution_count": 99,
   "metadata": {},
   "outputs": [],
   "source": [
    "#Estoy creando una gráfica llamada G1.\n",
    "G1 = nx.Graph()"
   ]
  },
  {
   "cell_type": "code",
   "execution_count": 100,
   "metadata": {},
   "outputs": [
    {
     "data": {
      "text/plain": [
       "NodeView((0, 1, 2, 3))"
      ]
     },
     "execution_count": 100,
     "metadata": {},
     "output_type": "execute_result"
    }
   ],
   "source": [
    "#A la gráfica se le agregan 4 nodos, con etiqueta 0,1,2 y 3.\n",
    "G1.add_node(0)\n",
    "G1.add_node(1)\n",
    "G1.add_node(2)\n",
    "G1.add_node(3)\n",
    "\n",
    "#Vemos los nodos que hay.\n",
    "G1.nodes"
   ]
  },
  {
   "cell_type": "markdown",
   "metadata": {},
   "source": [
    "# Ejemplos con ciclos for."
   ]
  },
  {
   "cell_type": "code",
   "execution_count": 101,
   "metadata": {},
   "outputs": [
    {
     "data": {
      "image/png": "[encoded data removed]",
      "text/plain": [
       "<Figure size 432x288 with 1 Axes>"
      ]
     },
     "metadata": {},
     "output_type": "display_data"
    }
   ],
   "source": [
    "for i in range(10):\n",
    "    G1.add_node(i)\n",
    "\n",
    "nx.draw(G1,with_labels=True)"
   ]
  },
  {
   "cell_type": "markdown",
   "metadata": {},
   "source": [
    "## Red lineal.\n",
    "\n",
    "#### Los nodos están conectados en forma de \"cadena\"."
   ]
  },
  {
   "cell_type": "code",
   "execution_count": 102,
   "metadata": {},
   "outputs": [
    {
     "data": {
      "image/png": "[encoded data removed]",
      "text/plain": [
       "<Figure size 432x288 with 1 Axes>"
      ]
     },
     "metadata": {},
     "output_type": "display_data"
    }
   ],
   "source": [
    "#Esta es una red lineal\n",
    "for i in range(9):\n",
    "    G1.add_edge(i, i+1)\n",
    "    \n",
    "nx.draw(G1, with_labels=True)"
   ]
  },
  {
   "cell_type": "code",
   "execution_count": 103,
   "metadata": {},
   "outputs": [
    {
     "data": {
      "text/plain": [
       "DegreeView({0: 1, 1: 2, 2: 2, 3: 2, 4: 2, 5: 2, 6: 2, 7: 2, 8: 2, 9: 1})"
      ]
     },
     "execution_count": 103,
     "metadata": {},
     "output_type": "execute_result"
    }
   ],
   "source": [
    "G1.degree"
   ]
  },
  {
   "cell_type": "code",
   "execution_count": 104,
   "metadata": {},
   "outputs": [
    {
     "data": {
      "text/plain": [
       "NodeView((0, 1, 2, 3, 4, 5, 6, 7, 8, 9))"
      ]
     },
     "execution_count": 104,
     "metadata": {},
     "output_type": "execute_result"
    }
   ],
   "source": [
    "G1.nodes"
   ]
  },
  {
   "cell_type": "markdown",
   "metadata": {},
   "source": [
    "## Red Circular.\n",
    "\n",
    "#### Los nodos se \"cierran\"."
   ]
  },
  {
   "cell_type": "code",
   "execution_count": 105,
   "metadata": {},
   "outputs": [
    {
     "data": {
      "image/png": "[encoded data removed]",
      "text/plain": [
       "<Figure size 432x288 with 1 Axes>"
      ]
     },
     "metadata": {},
     "output_type": "display_data"
    }
   ],
   "source": [
    "#Esta es una Red circular \n",
    "G1.add_edge(0,9)\n",
    "nx.draw(G1)"
   ]
  },
  {
   "cell_type": "markdown",
   "metadata": {},
   "source": [
    "### En el siguiente ejemplo se genera una red circular empleando herramientas como listas, cíclos for y todo lo visto de la paquetería $networkx$ "
   ]
  },
  {
   "cell_type": "code",
   "execution_count": 8,
   "metadata": {},
   "outputs": [
    {
     "name": "stdout",
     "output_type": "stream",
     "text": [
      "El nodo 49 se enlaza con el nodo 0\n",
      "El nodo 0 se enlaza con el nodo 1\n",
      "El nodo 1 se enlaza con el nodo 2\n",
      "El nodo 2 se enlaza con el nodo 3\n",
      "El nodo 3 se enlaza con el nodo 4\n",
      "El nodo 4 se enlaza con el nodo 5\n",
      "El nodo 5 se enlaza con el nodo 6\n",
      "El nodo 6 se enlaza con el nodo 7\n",
      "El nodo 7 se enlaza con el nodo 8\n",
      "El nodo 8 se enlaza con el nodo 9\n",
      "El nodo 9 se enlaza con el nodo 10\n",
      "El nodo 10 se enlaza con el nodo 11\n",
      "El nodo 11 se enlaza con el nodo 12\n",
      "El nodo 12 se enlaza con el nodo 13\n",
      "El nodo 13 se enlaza con el nodo 14\n",
      "El nodo 14 se enlaza con el nodo 15\n",
      "El nodo 15 se enlaza con el nodo 16\n",
      "El nodo 16 se enlaza con el nodo 17\n",
      "El nodo 17 se enlaza con el nodo 18\n",
      "El nodo 18 se enlaza con el nodo 19\n",
      "El nodo 19 se enlaza con el nodo 20\n",
      "El nodo 20 se enlaza con el nodo 21\n",
      "El nodo 21 se enlaza con el nodo 22\n",
      "El nodo 22 se enlaza con el nodo 23\n",
      "El nodo 23 se enlaza con el nodo 24\n",
      "El nodo 24 se enlaza con el nodo 25\n",
      "El nodo 25 se enlaza con el nodo 26\n",
      "El nodo 26 se enlaza con el nodo 27\n",
      "El nodo 27 se enlaza con el nodo 28\n",
      "El nodo 28 se enlaza con el nodo 29\n",
      "El nodo 29 se enlaza con el nodo 30\n",
      "El nodo 30 se enlaza con el nodo 31\n",
      "El nodo 31 se enlaza con el nodo 32\n",
      "El nodo 32 se enlaza con el nodo 33\n",
      "El nodo 33 se enlaza con el nodo 34\n",
      "El nodo 34 se enlaza con el nodo 35\n",
      "El nodo 35 se enlaza con el nodo 36\n",
      "El nodo 36 se enlaza con el nodo 37\n",
      "El nodo 37 se enlaza con el nodo 38\n",
      "El nodo 38 se enlaza con el nodo 39\n",
      "El nodo 39 se enlaza con el nodo 40\n",
      "El nodo 40 se enlaza con el nodo 41\n",
      "El nodo 41 se enlaza con el nodo 42\n",
      "El nodo 42 se enlaza con el nodo 43\n",
      "El nodo 43 se enlaza con el nodo 44\n",
      "El nodo 44 se enlaza con el nodo 45\n",
      "El nodo 45 se enlaza con el nodo 46\n",
      "El nodo 46 se enlaza con el nodo 47\n",
      "El nodo 47 se enlaza con el nodo 48\n",
      "El nodo 48 se enlaza con el nodo 49\n"
     ]
    },
    {
     "data": {
      "image/png": "[encoded data removed]",
      "text/plain": [
       "<Figure size 432x288 with 1 Axes>"
      ]
     },
     "metadata": {},
     "output_type": "display_data"
    }
   ],
   "source": [
    "#Como primer paso defino una gráfica.\n",
    "G_anillo = nx.Graph()\n",
    "#Este es el número de nodos que quiero que la gráfica tenga\n",
    "N = 50 \n",
    "\n",
    "#Con este cíclo for estoy agregando nodos a G_anillo.\n",
    "for i in range(N):\n",
    "    G_anillo.add_node(i)\n",
    "\n",
    "#Los nodos que agregué los estoy guardando en una lista para poder trabajar con ella de una mejor manera.    \n",
    "lista_G_anillos = list(G_anillo.nodes)\n",
    "\n",
    "for i in range(N):    \n",
    "    #En este paso estamos agregando aristas de la siguiente forma:\n",
    "        #Agregamos una arista del elemento i-1 al elemeto i de la lista anteriormente formada.\n",
    "    G_anillo.add_edge(lista_G_anillos[i-1],lista_G_anillos[i])\n",
    "    \n",
    "    #En la red se están enlazando los siguientes nodos, como \"pareja no ordenada\".\n",
    "    print(\"El nodo \"+str(lista_G_anillos[i-1])+\" se enlaza con el nodo \"+str(lista_G_anillos[i]))\n",
    "    \n",
    "#Aquí se ve la representación gráfica de lo anterior.\n",
    "nx.draw(G_anillo, with_labels = True)"
   ]
  },
  {
   "cell_type": "markdown",
   "metadata": {},
   "source": [
    "## Red anillo a segundos, terceros y n-vecinos."
   ]
  },
  {
   "cell_type": "code",
   "execution_count": 1,
   "metadata": {},
   "outputs": [
    {
     "ename": "NameError",
     "evalue": "name 'nx' is not defined",
     "output_type": "error",
     "traceback": [
      "\u001b[1;31m---------------------------------------------------------------------------\u001b[0m",
      "\u001b[1;31mNameError\u001b[0m                                 Traceback (most recent call last)",
      "\u001b[1;32m<ipython-input-1-99d7a8ae8abe>\u001b[0m in \u001b[0;36m<module>\u001b[1;34m\u001b[0m\n\u001b[1;32m----> 1\u001b[1;33m \u001b[0mAnillo\u001b[0m \u001b[1;33m=\u001b[0m \u001b[0mnx\u001b[0m\u001b[1;33m.\u001b[0m\u001b[0mGraph\u001b[0m\u001b[1;33m(\u001b[0m\u001b[1;33m)\u001b[0m\u001b[1;33m\u001b[0m\u001b[1;33m\u001b[0m\u001b[0m\n\u001b[0m\u001b[0;32m      2\u001b[0m \u001b[1;33m\u001b[0m\u001b[0m\n\u001b[0;32m      3\u001b[0m \u001b[1;31m#Numero de nodos\u001b[0m\u001b[1;33m\u001b[0m\u001b[1;33m\u001b[0m\u001b[1;33m\u001b[0m\u001b[0m\n\u001b[0;32m      4\u001b[0m \u001b[0mN\u001b[0m \u001b[1;33m=\u001b[0m \u001b[1;36m15\u001b[0m\u001b[1;33m\u001b[0m\u001b[1;33m\u001b[0m\u001b[0m\n\u001b[0;32m      5\u001b[0m \u001b[1;33m\u001b[0m\u001b[0m\n",
      "\u001b[1;31mNameError\u001b[0m: name 'nx' is not defined"
     ]
    }
   ],
   "source": [
    "Anillo = nx.Graph()\n",
    "\n",
    "#Numero de nodos\n",
    "N = 15\n",
    "\n",
    "for i in range(N):\n",
    "    Anillo.add_node(i)\n",
    "    \n",
    "lista_nodos = list(Anillo.nodes)\n",
    "\n",
    "for i in range(N):\n",
    "    #Enlace a primeros vecinos.\n",
    "    Anillo.add_edge(lista_nodos[i-1] , lista_nodos[i])\n",
    "    #Enlace a segundos vecinos.\n",
    "    Anillo.add_edge(lista_nodos[i-2] , lista_nodos[i])\n",
    "    #Enlace a terceros vecinos.\n",
    "    #Anillo.add_edge(lista_nodos[i-3] , lista_nodos[i])\n",
    "    \n",
    "#nx.draw(Anillo)\n",
    "nx.draw_circular(Anillo)"
   ]
  },
  {
   "cell_type": "markdown",
   "metadata": {},
   "source": [
    "## Redes regulares\n",
    "#### Los nodos tienen la misma cantidad de vecinos."
   ]
  },
  {
   "cell_type": "code",
   "execution_count": 121,
   "metadata": {},
   "outputs": [
    {
     "data": {
      "text/plain": [
       "DegreeView({0: 4, 1: 4, 2: 4, 3: 4, 4: 4, 5: 4, 6: 4, 7: 4, 8: 4, 9: 4, 10: 4, 11: 4, 12: 4, 13: 4, 14: 4})"
      ]
     },
     "execution_count": 121,
     "metadata": {},
     "output_type": "execute_result"
    }
   ],
   "source": [
    "Anillo.degree"
   ]
  },
  {
   "cell_type": "code",
   "execution_count": 7,
   "metadata": {},
   "outputs": [
    {
     "data": {
      "image/png": "[encoded data removed]",
      "text/plain": [
       "<Figure size 432x288 with 1 Axes>"
      ]
     },
     "metadata": {},
     "output_type": "display_data"
    }
   ],
   "source": [
    "import networkx as nx \n",
    "import numpy as np\n",
    "\n",
    "G_ejemplo = nx.Graph()\n",
    "\n",
    "List = np.arange(0,22,2)\n",
    "\n",
    "for i in range(List.size):\n",
    "    G_ejemplo.add_node(i)\n",
    "\n",
    "Lista_G = list(G_ejemplo.nodes)\n",
    "\n",
    "nx.draw(G_ejemplo, with_labels = True)"
   ]
  },
  {
   "cell_type": "code",
   "execution_count": 113,
   "metadata": {},
   "outputs": [
    {
     "data": {
      "text/plain": [
       "NodeView(('Hola',))"
      ]
     },
     "execution_count": 113,
     "metadata": {},
     "output_type": "execute_result"
    }
   ],
   "source": [
    "G_ejemplo.nodes"
   ]
  }
 ],
 "metadata": {
  "kernelspec": {
   "display_name": "Python 3 (ipykernel)",
   "language": "python",
   "name": "python3"
  },
  "language_info": {
   "codemirror_mode": {
    "name": "ipython",
    "version": 3
   },
   "file_extension": ".py",
   "mimetype": "text/x-python",
   "name": "python",
   "nbconvert_exporter": "python",
   "pygments_lexer": "ipython3",
   "version": "3.11.5"
  }
 },
 "nbformat": 4,
 "nbformat_minor": 4
}
